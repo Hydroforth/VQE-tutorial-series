{
 "cells": [
  {
   "cell_type": "markdown",
   "id": "regular-balloon",
   "metadata": {},
   "source": [
    "# Building Hamiltonians from constructed operators\n",
    "We are interested in understanding how to construct operators as matrices in order to create Hamiltonians for different types of systems.\n",
    "\n",
    "## Objectives\n",
    "1. Understand differences in encoding operators in both the position and energy basis.\n",
    "2. Understand how to construct Hamiltonians."
   ]
  },
  {
   "cell_type": "markdown",
   "id": "arbitrary-arbitration",
   "metadata": {},
   "source": [
    "### I. Operators in the Position Basis\n",
    "###### Eigenvectors represent probability to be found in a particular lattice site.\n",
    "We work on a lattice with $n$ sites, indexed as:\n",
    "\n",
    "$$\\ell(a) = \\frac{2a - 1 - n}{2}, a \\in \\{1, 2, \\ldots, n\\}$$\n",
    "\n",
    "The position operator is constructed as an $n\\times n$ matrix:\n",
    "\n",
    "$$\\left<j\\left|X_\\text{pos}\\right|k\\right> = \\sqrt{\\frac{2\\pi}{n}}\\ell(j)\\delta_{jk}$$\n",
    "\n",
    "Recall that for a given operator $\\hat{O}$, the elements of the matrix are denoted in Dirac notation as:\n",
    "\n",
    "$$\\left<n|\\hat{O}|m\\right> = O_{nm}$$\n",
    "\n",
    "For an operator constructed from its own basis states, the matrix elements are simply its eigenvalues.\n",
    "\n",
    "Example: For a lattice with $2$ sites, we would have a $2 \\times 2$ matrix. The delta function tells us that we have a diagonal matrix:\n",
    "\n",
    "$$\n",
    "\\mathbf{X}_\\text{pos} = \\sqrt{\\frac{2\\pi}{2}}\\begin{bmatrix}\n",
    "\\ell(1) & 0 \\\\\n",
    "0 & \\ell(2)\n",
    "\\end{bmatrix}\n",
    "$$\n",
    "\n",
    "Curiously, we have traceless diagonal matrix, i.e. for the above we note that for $n=2$, $\\ell(1) = -\\ell(2)$. In general, if we take the trace of $\\mathbf{X}_\\text{pos}$ :\n",
    "\n",
    "$$\\text{tr}\\left(\\mathbf{X}_n\\right)=\\sqrt{\\frac{2\\pi}{n}} \\sum_i^n \\ell(i) = \\sqrt{\\frac{2\\pi}{n}} \\sum_i^n \\left(i - \\frac{n+1}{2}\\right) = \\sqrt{\\frac{2\\pi}{n}}\\left[\\sum_i^ni - \\frac{n(n+1)}{2}\\right] = 0$$ \n",
    "\n",
    ", where we used the sum of the series $\\sum i = n(n+1)/2$.\n",
    "\n",
    "###### Some observations:\n",
    "1. The constraint is that it should be a Hermitian matrix, which means that $\\mathbf{A}^\\dagger=\\mathbf{A}$, which is a generalization of real symmetric matrices.\n",
    "\n",
    "<br>\n",
    "To construct the momentum operator in the position basis, we note that the position and momentum operators are similar, i.e.\n",
    "\n",
    "$$\n",
    "\\mathbf{P}_\\text{pos} = \\mathbf{F}^\\dagger\\mathbf{X}_\\text{pos}\\mathbf{F} = \\mathbf{F}\\mathbf{X}_\\text{pos}\\mathbf{F}^\\dagger\n",
    "$$\n",
    "\n",
    ", where the similarity transformation $F$ is the discrete fourier transform (DFT) matrix given by\n",
    "\n",
    "$$\\left<j|\\mathbf{F}|k\\right>= \\frac{1}{\\sqrt{n}} e^{\\frac{2\\pi i}{n} \\ell(j,n)\\ell(k,n)}$$ \n",
    "\n",
    "Example: For a $2\\times 2$ lattice, we construct the discrete Fourier transform as\n",
    "\n",
    "$$\\mathbf{F} = \\frac{1}{\\sqrt{2}} \\begin{bmatrix}\n",
    "\\omega^{\\ell(1,2)\\ell(1,2)} & \\omega^{\\ell(1,2)\\ell(2,2)} \\\\\n",
    "\\omega^{\\ell(2,2)\\ell(1,2)} & \\omega^{\\ell(2,2)\\ell(2,2)}\n",
    "\\end{bmatrix}$$\n",
    "\n",
    ", where $\\omega = e^{\\pi i}$. We can rewrite this as:\n",
    "\n",
    "$$\\mathbf{F} = \\frac{1}{\\sqrt{2}} \\begin{bmatrix}\n",
    "\\omega^{1/4} & \\omega^{-1/4} \\\\\n",
    "\\omega^{-1/4} & \\omega^{1/4}\n",
    "\\end{bmatrix}$$\n",
    "\n",
    ", and then we simply use the similarity transformation from $\\mathbf{X}_\\text{pos}$ to $\\mathbf{P}_\\text{pos}$ using the DFT matrix $\\mathbf{F}$."
   ]
  },
  {
   "cell_type": "code",
   "execution_count": 1,
   "id": "normal-calibration",
   "metadata": {},
   "outputs": [],
   "source": [
    "import numpy as np\n",
    "\n",
    "#here, we define the lattice indices:\n",
    "def ell(a,n):\n",
    "    return (2*a - 1 - n)/2\n",
    "\n",
    "#discrete fourier transform\n",
    "def DFT(N):\n",
    "    F = []\n",
    "    for j in range(1,N+1):\n",
    "        F_row = []\n",
    "        for k in range(1,N+1):\n",
    "            F_row.append( (1/np.sqrt(N)) * np.exp( (2*np.pi*1j*ell(j,N)*ell(k,N) )/N ) )\n",
    "        F.append(F_row)\n",
    "    return np.round(F,10)\n",
    "\n",
    "#position operator in position basis\n",
    "def X_pos(N):\n",
    "    X = []\n",
    "    for j in range(1,N+1):\n",
    "        X_row = []\n",
    "        for k in range(1,N+1):\n",
    "            #if-else statements reflects Kronecker-delta function\n",
    "            if j==k:\n",
    "                X_row.append(np.sqrt(2*np.pi/N)*ell(j,N))\n",
    "            else:\n",
    "                X_row.append(0)\n",
    "        X.append(X_row)\n",
    "    return np.round(X,10)\n",
    "\n",
    "#momentum operator in position basis\n",
    "def P_pos(N):\n",
    "    F = DFT(N)\n",
    "    X = X_pos(N)\n",
    "    F_dag = np.matrix(F).H\n",
    "    return np.round(np.matmul(F_dag,np.matmul(X,F)),10)"
   ]
  },
  {
   "cell_type": "markdown",
   "id": "9d8e400a",
   "metadata": {},
   "source": [
    "### II. Operators in the Harmonic Oscillator Energy Basis\n",
    "###### Eigenvectors represent probability amplitudes to have a  particular energy.\n",
    "\n",
    "We construct the annihilation operator as the $n\\times n$ matrix:\n",
    "\n",
    "$$ \\left<j|\\mathbf{A}|k\\right> = \\sqrt{j}\\delta_{j,k-1}$$\n",
    "\n",
    "The delta function tells us that we have entries offset from the main diagonal by 1. The position and momentum operators are then defined in terms of the creation and annihilation operators as:\n",
    "\n",
    "$$\\mathbf{X}_\\text{en} = \\frac{1}{\\sqrt{2}}(\\mathbf{A}^\\dagger + \\mathbf{A}), \\qquad\\qquad\\qquad\\mathbf{P}_\\text{en} = \\frac{i}{\\sqrt{2}}\\left(\\mathbf{A}^\\dagger - \\mathbf{A}\\right)$$\n"
   ]
  },
  {
   "cell_type": "code",
   "execution_count": 23,
   "id": "0c4aab4e",
   "metadata": {},
   "outputs": [],
   "source": [
    "#annihilation operator\n",
    "def A(N):\n",
    "    A = []\n",
    "    for j in range(1,N+1):\n",
    "        A_row = []\n",
    "        for k in range(1, N + 1):\n",
    "            #for the Kronecker-delta function:\n",
    "            if j == (k-1):\n",
    "                A_row.append(np.sqrt(j))\n",
    "            else:\n",
    "                A_row.append(0)\n",
    "        A.append(A_row)\n",
    "    return A\n",
    "\n",
    "#position operator in energy basis\n",
    "def X_en(N):\n",
    "    A_undag = np.matrix(A(N))\n",
    "    A_dag = np.matrix(A(N)).H\n",
    "    \n",
    "    return (1/np.sqrt(2) )*(A_dag + A_undag)\n",
    "\n",
    "#momentum operator in position basis\n",
    "def P_en(N):\n",
    "    A_undag = np.matrix(A(N))\n",
    "    A_dag = np.matrix(A(N)).H\n",
    "    \n",
    "    return (1j/np.sqrt(2) )*(A_dag - A_undag)"
   ]
  },
  {
   "cell_type": "markdown",
   "id": "1d96792f",
   "metadata": {},
   "source": [
    "### III. Building Hamiltonians\n",
    "\n",
    "Note that the Hamiltonian for the quantum harmonic oscillator is given by\n",
    "\n",
    "$$ \\hat{H}_\\text{ho} = \\frac{\\hat{p}^2}{2m} + \\frac{1}{2}m\\omega^2 \\hat{x}^2 $$\n",
    "\n",
    "We set the constants $\\hbar$, $\\omega$, and $m$ to 1 , while replacing the continuous operators with discrete ones:\n",
    "\n",
    "$$ \\hat{H}_\\text{ho} = \\frac{P^2}{2} + \\frac{X^2}{2} $$"
   ]
  },
  {
   "cell_type": "code",
   "execution_count": 31,
   "id": "progressive-gibson",
   "metadata": {},
   "outputs": [],
   "source": [
    "#QHO hamiltonian\n",
    "def H_harm(N,basis):\n",
    "    #to calculate using position basis\n",
    "    if basis == \"pos\":\n",
    "        X = np.matrix(X_pos(N))\n",
    "        P = P_pos(N)\n",
    "    #to calculate using energy basis\n",
    "    elif basis == \"en\":\n",
    "        X = np.matrix(X_en(N))\n",
    "        P = P_en(N)\n",
    "    return np.round((np.matrix(X)**2 + np.matrix(P)**2)/2,10)"
   ]
  },
  {
   "cell_type": "markdown",
   "id": "detailed-swedish",
   "metadata": {},
   "source": [
    "Now that we understand how to create the operators into a particular basis, we want to do the following:\n",
    "1. Check for accuracy of operators for particular systems with analytic solutions, e.g. QHO, cubic/quartic anharmonic oscillators, tight binding models, etc.\n",
    "2. Use these operators to construct hamiltonians for the VQE algorithm.\n",
    "3. Compare their results for a particular basis."
   ]
  },
  {
   "cell_type": "markdown",
   "id": "a2802f41",
   "metadata": {},
   "source": [
    "### IV. Brief Comparison between the two basis:"
   ]
  },
  {
   "cell_type": "code",
   "execution_count": 59,
   "id": "166866cc",
   "metadata": {},
   "outputs": [
    {
     "name": "stderr",
     "output_type": "stream",
     "text": [
      "C:\\Users\\johns\\AppData\\Local\\Packages\\PythonSoftwareFoundation.Python.3.9_qbz5n2kfra8p0\\LocalCache\\local-packages\\Python39\\site-packages\\numpy\\core\\_asarray.py:102: ComplexWarning: Casting complex values to real discards the imaginary part\n",
      "  return array(a, dtype, copy=False, order=order)\n",
      "C:\\Users\\johns\\AppData\\Local\\Packages\\PythonSoftwareFoundation.Python.3.9_qbz5n2kfra8p0\\LocalCache\\local-packages\\Python39\\site-packages\\numpy\\core\\_asarray.py:102: ComplexWarning: Casting complex values to real discards the imaginary part\n",
      "  return array(a, dtype, copy=False, order=order)\n"
     ]
    },
    {
     "data": {
      "image/png": "[encoded data removed]",
      "text/plain": [
       "<Figure size 432x288 with 1 Axes>"
      ]
     },
     "metadata": {
      "needs_background": "light"
     },
     "output_type": "display_data"
    }
   ],
   "source": [
    "#QHO constructed from position and energy basis, respectively\n",
    "H_pos = np.array(np.matrix(X_pos(32))**2/2 + np.matrix(P_pos(32))**2/2)\n",
    "H_en = np.array(np.matrix(X_en(32))**2/2 + np.matrix(P_en(32))**2/2)\n",
    "\n",
    "#eigenvalues and eigenvectors, respectively\n",
    "e_pos,v_pos = np.linalg.eig(H_pos)\n",
    "e_en,v_en = np.linalg.eig(H_en)\n",
    "\n",
    "\n",
    "def exactE(N):\n",
    "    E = []\n",
    "    for i in range(0,N+1):\n",
    "        E.append(i+1/2)\n",
    "    return E\n",
    "\n",
    "import matplotlib.pyplot as plt\n",
    "\n",
    "x_plot = np.arange(1,33,1)\n",
    "\n",
    "plt.plot(x_plot, np.sort(e_pos), label = \"position\")\n",
    "plt.plot(x_plot, np.sort(e_en), label = \"energy\")\n",
    "plt.plot(x_plot, exactE(31), label = \"exact\")\n",
    "plt.xlabel(\"Eigenvalue\")\n",
    "plt.ylabel(\"Energy\")\n",
    "plt.legend()\n",
    "plt.show()"
   ]
  },
  {
   "cell_type": "markdown",
   "id": "turkish-spain",
   "metadata": {},
   "source": [
    "## References:\n",
    "1. Miceli, R., & McGuigan, M. (2018, August). Quantum computation and visualization of hamiltonians using discrete quantum mechanics and ibm qiskit. In 2018 New York Scientific Data Summit (NYSDS) (pp. 1-6). IEEE.\n"
   ]
  }
 ],
 "metadata": {
  "kernelspec": {
   "display_name": "Python 3",
   "language": "python",
   "name": "python3"
  },
  "language_info": {
   "codemirror_mode": {
    "name": "ipython",
    "version": 3
   },
   "file_extension": ".py",
   "mimetype": "text/x-python",
   "name": "python",
   "nbconvert_exporter": "python",
   "pygments_lexer": "ipython3",
   "version": "3.9.13"
  }
 },
 "nbformat": 4,
 "nbformat_minor": 5
}
